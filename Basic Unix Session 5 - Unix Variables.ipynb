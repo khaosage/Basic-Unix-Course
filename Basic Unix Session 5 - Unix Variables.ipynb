{
 "metadata": {
  "name": "Basic Unix Session 5 - Unix Variables"
 },
 "nbformat": 3,
 "nbformat_minor": 0,
 "worksheets": [
  {
   "cells": [
    {
     "cell_type": "heading",
     "level": 1,
     "metadata": {},
     "source": [
      "UNIX Variables"
     ]
    },
    {
     "cell_type": "markdown",
     "metadata": {},
     "source": [
      "An important Unix concept is the uix environment, which is defined by environment and shell variables.\n",
      "\t\n",
      "An environment variable is way for the system to pass information from the shell to other programs when you run them.   Some of these variables are inherited or declared when a shell is started. Others are set by you in your own config files.  Some environment variables can affect the way running processes behave as well as affecting the scripts you will write and run.\n",
      "\t\n",
      "To see your current environment variables use the printenv or env commands."
     ]
    },
    {
     "cell_type": "code",
     "collapsed": false,
     "input": [
      "%%bash\n",
      "\n",
      "env"
     ],
     "language": "python",
     "metadata": {},
     "outputs": []
    },
    {
     "cell_type": "code",
     "collapsed": false,
     "input": [
      "%%bash\n",
      "\n",
      "echo $USER"
     ],
     "language": "python",
     "metadata": {},
     "outputs": []
    },
    {
     "cell_type": "markdown",
     "metadata": {},
     "source": [
      "Here follows an explanation of a few of the environment variables you may see.\n",
      "\n",
      "<pre>\n",
      "    $USER      (your login name)\n",
      "    $HOME      (the path to your home directory)\n",
      "    $PATH      (the directories the shell can search to find a command)\n",
      "    $PWD       (your current working directory)\n",
      "    $OLD_PWD   (your last directory location you visited)\n",
      "    $SHELL     (The current shell type)\n",
      "    $DISPLAY   (contains the identifier for the display that processes should use.)\n",
      "    $GROUP     (contains your primary group.)\n",
      "</pre>\n",
      "\n",
      "Shell variables do not have to be in uppercase but shell builtins are always in uppercase.\n",
      "\n",
      "For Example:\n",
      "<pre>\n",
      "\n",
      "    http_proxy=http://wwwcache.sanger.ac.uk:3128/ \n",
      "\n",
      "At Sanger this would set the location of the web cache.\n",
      "</pre>\n",
      "\n",
      "\n",
      "\n",
      "$PS1, $PS2, $PS3, $PS4\n",
      "PS1=\\[\\033[1;36m\\][\\u]\\[\\033[0m\\] \\e]2;\\u@\\H\\a\n",
      "PS2=continue->\n"
     ]
    },
    {
     "cell_type": "heading",
     "level": 4,
     "metadata": {},
     "source": [
      "Some specific examples"
     ]
    },
    {
     "cell_type": "markdown",
     "metadata": {},
     "source": [
      "__PATH__\n",
      "\n",
      "The __PATH__ variable contains a list of the locations that the shell will use to search for programs.  When you type 'ls' for example there is no system command called 'ls' it is infact a program in the bin directory.  So the system searches the locations on your PATH and what actually gets run is:\n",
      "\n",
      "<pre>\n",
      "/bin/ls\n",
      "</pre>\n",
      "\n",
      "The order you arrange your PATH variable effects the order of the searchand the system will take the first instace of a program and run it and not bothersearching or running anything else.  So it is entirely poosible to change the behaviour of unix utilities fi you are not careful.\n",
      "\n",
      "__Note:__  That ':$PATH' appends the current values to the new value, If we did not append the previous PATH variable the new path, It would set only a single location and all your applications will stop working."
     ]
    },
    {
     "cell_type": "markdown",
     "metadata": {},
     "source": [
      "\n",
      "\n",
      "\n",
      "\n",
      "\n",
      "\n"
     ]
    },
    {
     "cell_type": "markdown",
     "metadata": {},
     "source": [
      "<strong>Syntax Differences between shells</strong>\n",
      "\n",
      "Environment variables, whether existing or new, can be set using the setenv or export commands.\n",
      "\n",
      "<pre>\n",
      "setenv VARIABLE value    \t\t\t\t# for csh and related shells\n",
      "export VARIABLE=value    \t\t\t\t# for Bourne, bash, and related shells\n",
      "</pre>\n",
      "\n",
      "For example, to add /software/bin to your PATH variable you would use the following commands, depending on your shell.\n",
      "\n",
      "<pre>\n",
      "setenv PATH /software/bin:$PATH\t\t# for csh and related shells\n",
      "export PATH=/software/bin:$PATH\t\t# for Bourne, bash, and related shells\n",
      "</pre>\n"
     ]
    },
    {
     "cell_type": "heading",
     "level": 3,
     "metadata": {},
     "source": [
      "Unix Environment - the .cshrc/.bashrc file"
     ]
    },
    {
     "cell_type": "markdown",
     "metadata": {},
     "source": [
      "When a new shell is opened the system sets a default environment for you. You can make changes and additions to this environment using your own shell startup file.\n",
      "\t\n",
      "The startup file resides in your home directory, at the Sanger Institute C shell (csh) is the default shell. When you open a C shell it will read the file .cshrc from your home directory.\n",
      "\t\n",
      "If you are using the Bourne (bash) shell the startup file is called .bashrc."
     ]
    },
    {
     "cell_type": "heading",
     "level": 4,
     "metadata": {},
     "source": [
      "Aliases"
     ]
    },
    {
     "cell_type": "markdown",
     "metadata": {},
     "source": [
      "alias is a command commonly used for abbreviating system commands. \n",
      "\t\n",
      "For example setting"
     ]
    },
    {
     "cell_type": "code",
     "collapsed": false,
     "input": [
      "%%bash\n",
      "\n",
      "alias ls=\"ls -F\""
     ],
     "language": "python",
     "metadata": {},
     "outputs": []
    },
    {
     "cell_type": "markdown",
     "metadata": {},
     "source": [
      "In a shell will cause the system to run 'ls -F' every time you type 'ls'.\n",
      "\t\n",
      "To see any aliases currently set type 'alias'"
     ]
    },
    {
     "cell_type": "code",
     "collapsed": false,
     "input": [
      "%%bash\n",
      "\n",
      "alias"
     ],
     "language": "python",
     "metadata": {},
     "outputs": []
    },
    {
     "cell_type": "markdown",
     "metadata": {},
     "source": [
      "NOTE: Setting aliases for the C shell uses a slightly different syntax. In a C shell the above would be as follows.\n",
      "\n",
      "<pre>\n",
      "alias ls ls -F\n",
      "</pre>"
     ]
    }
   ],
   "metadata": {}
  }
 ]
}