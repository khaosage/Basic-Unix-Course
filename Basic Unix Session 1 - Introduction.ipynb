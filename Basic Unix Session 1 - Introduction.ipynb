{
 "metadata": {
  "name": "Basic Unix Session 1 - Introduction"
 },
 "nbformat": 3,
 "nbformat_minor": 0,
 "worksheets": [
  {
   "cells": [
    {
     "cell_type": "heading",
     "level": 1,
     "metadata": {},
     "source": [
      "Introduction to Basic Unix"
     ]
    },
    {
     "cell_type": "markdown",
     "metadata": {},
     "source": [
      "### Course Aims\n",
      "\n",
      "The aim of this course is to give you a basic understanding and some practical experience of:\n",
      "\n",
      "* A Brief History of Unix and Linux\n",
      "* Using your account through the shell and graphical user interfaces.\n",
      "* Managing your data in the Unix file system.\n",
      "* Permissions, protecting your data.\n",
      "* Running programs and managing your processes.\n",
      "* Processing your data, searching and sorting text files.\n",
      "* The Unix environment."
     ]
    },
    {
     "cell_type": "markdown",
     "metadata": {},
     "source": [
      "### A Brief History of Unix and Linux\n",
      "\n",
      "The Unix operating system was conceived and implemented in 1969 at AT&T's Bell Laboratories in the United States by Ken Thompson, Dennis Ritchie, Douglas McIlroy, and Joe Ossanna. \n",
      "\n",
      "It was first released in 1971 and was initially entirely written in assembly language, a common practice at the time. Later, in a key pioneering approach in 1973, Unix was re-written in the programming language C by Dennis Ritchie (with exceptions to the kernel and I/O). The availability of an operating system written in a high-level language allowed easier portability to different computer platforms. \n",
      "\n",
      "<img src=\"files/images/pdp-7.jpg\">\n",
      "\n",
      "One of the first Unix computers, a PDP-7 (circa 1965)\n",
      "\n",
      "<img src=\"files/images/History of Unix.png\">\n",
      "\n",
      "With a legal glitch forcing AT&T to license the operating system's source code to anyone who asked, Unix quickly grew and became widely adopted by academic institutions and businesses. The success of the UNIX operating system has led to many different versions.  The recipients of the then free UNIX system code all began developing their own different versions in their own, different, ways for use and sale. \n",
      "\n",
      "In 1983 Richard Stallman, started the GNU Project with the goal of creating a \"complete Unix-compatible software system\" composed entirely of free software. \n",
      "\n",
      "In 1984, AT&T divested itself of Bell Labs. Free of the legal glitch requiring free licensing, Bell Labs began selling Unix as a proprietary product.\n",
      "\n",
      "In 1985, Richard Stallman started the Free Software Foundation and wrote the GNU General Public License (GNU GPL) in 1989. \n",
      "\n",
      "In a move intended to unify the market in 1987, AT&T announced a pact with Sun Microsystems, the rest of the industry viewed the development with considerable concern believing that their own markets were under threat they clubbed together to develop their own \"new\" open systems operating system. The ensuing \"UNIX wars\" divided the system vendors.\n",
      "\n",
      "By the early 1990s, many of the programs required in an operating system (such as libraries, compilers, text editors, a Unix shell, and a windowing system) were completed, although low-level elements such as device drivers, daemons, and the kernel were stalled and incomplete.\n",
      "\n",
      "In 1991 while attending the University of Helsinki, Linus Torvalds became curious about operating systems and frustrated by the licensing of a non free UNIX called MINIX, which was limited to educational use only he began to work on writing his own. \n",
      "\n",
      "As Torvalds wrote in his book \"Just for Fun\" he eventually realized that he had written an operating system kernel.\n",
      "\n",
      "On 25 August 1991, he announced this system in a Usenet posting to the newsgroup \"comp.os.minix.\":\n",
      "\n",
      "<pre>\n",
      "Hello everybody out there using minix -\n",
      "\n",
      "I'm doing a (free) operating system (just a hobby, won't be big and professional like gnu) for 386(486) AT clones. This has been brewing since april, and is starting to get ready. I'd like any feedback on things people like/dislike in minix, as my OS resembles it somewhat (same physical layout of the file-system (due to practical reasons) among other things).\n",
      "\n",
      "I've currently ported bash(1.08) and gcc(1.40), and things seem to work. This implies that I'll get something practical within a few months, and I'd like to know what features most people would want. Any suggestions are welcome, but I won't promise I'll implement them :-)\n",
      "\n",
      "Linus (torvalds@kruuna.helsinki.fi)\n",
      "\n",
      "PS. Yes \u2013 it's free of any minix code, and it has a multi-threaded fs. It is NOT portable (uses 386 task switching etc), and it probably never will support anything other than AT-harddisks, as that's all I have :-(.\n",
      "\n",
      "\u2014Linus Torvalds\n",
      "</pre>\n",
      "\n",
      "Torvalds has said that if the GNU kernel had been available at the time (1991), he would not have decided to write his own.\n"
     ]
    },
    {
     "cell_type": "markdown",
     "metadata": {},
     "source": [
      "### Configuration of a Unix system\n",
      "\t\n",
      "- The hardware refers to the physical components of the computer system i.e. cpu, memory, hard disk.\n",
      "- The kernel is the core of the Unix operating system.\n",
      "- Shells interpret commands from the keyboard, ask the kernel to run programs and put results on the screen.\n",
      "- Utilities and commands are the basic Unix programs used to manage your content and processes.\n",
      "    \n",
      "<img src=\"files/images/programs.png\"><img src=\"files/images/kernal.png\">\n",
      "    \n",
      "    \n",
      "#### Software\n",
      "\n",
      "A Linux distribution (often called distro for short) is a member of the family of Unix-like operating systems built on top of the Linux kernel. Such distributions are operating systems and include a large collection of software applications such as word processors, spreadsheets, media players, and database applications.  They offer a desktop environment with graphical user interface with windows, icons, point and click mouse control and pull-down menus etc.\n",
      "\n",
      "At the Sanger Institute the most widely used distributions are Debian, Ubuntu and Mac OSX.\n"
     ]
    },
    {
     "cell_type": "markdown",
     "metadata": {},
     "source": [
      "### The Unix Shell\n",
      "\t\n",
      "On unix and unix-like operating systems the shell provides a traditional way to direct the operation of the computer by entering one or more commands as text. \n",
      "\n",
      "There are many different shells but the most influential been the Bourne shell and the C shell. The Bourne shell or sh was written by Stephen Bourne at AT&T as the original Unix command line interpreter it was introduced with basic features common to all the Unix shells, these include \n",
      "\n",
      "- Piping\n",
      "- filename wildcarding\n",
      "- Here documents\n",
      "- Command substitution\n",
      "- Variables\n",
      "- Control structures for condition-testing\n",
      "- Looping\n",
      "\n",
      "Available shells are sh,\t ksh, csh, tcsh, bash, zsh as well as a few more specialised or exotic ones.\n",
      "\n",
      "At Sanger we only use 2 of the available shells tcsh and bash. \n",
      "\n",
      "#### tcsh\n",
      "\n",
      "The \u201ct\u201d in tcsh comes from the \u201cT\u201d in TENEX, an operating system which inspired Ken Greer at Carnegie Mellon University the author of tcsh.  At sanger tcsh is only used for legacy reasons and the servers that required it haven\u2019t existed for nearly 5 years now.\n",
      "\n",
      "#### bash\n",
      "\t\n",
      "Bash is the default choice for Linux, slightly easier to learn and has a few more advanced features.  It is therefore probably the best place to start if you are new to the Linux command line.  Bash was written by Brian Fox for the GNU Project as a free software replacement for the Bourne shell and was released in 1989, it has been distributed widely as the shell for the GNU operating system and as the default shell on Linux and Mac OS X.  The name itself is an acronym and stands for Bourne-again shell, referring to its objective as a free replacement for the Bourne shell.  \n",
      "\n",
      "NOTE:  Almost everything in this course uses the bash syntax but as with most shells the majority of commands should work no matter which shell you use.\n"
     ]
    },
    {
     "cell_type": "heading",
     "level": 3,
     "metadata": {
      "slideshow": {
       "slide_type": "-"
      }
     },
     "source": [
      "Command Syntax"
     ]
    },
    {
     "cell_type": "markdown",
     "metadata": {
      "slideshow": {
       "slide_type": "-"
      }
     },
     "source": [
      "Unix commands have the following syntax:"
     ]
    },
    {
     "cell_type": "markdown",
     "metadata": {
      "slideshow": {
       "slide_type": "-"
      }
     },
     "source": [
      "<img src=\"files/images/command_syntax.png\">"
     ]
    },
    {
     "cell_type": "markdown",
     "metadata": {
      "slideshow": {
       "slide_type": "-"
      }
     },
     "source": [
      "Don\u2019t worry about what this command does just yet this is just to demonstrate the syntax.\n",
      "\n",
      "First we have the actual command we want to run, then separated by a space we have some options then another space followed by the arguments or the \u201cthing\u201d we want to effect with the command.\n",
      "\n",
      "- Depending on the command it may take one or more options/arguments\n",
      "- An option changes the way a command behaves and are completely optional.\n",
      "- An argument is a value that the command will perform operations on.\n",
      "- Unix is sensitive to the case of letters and prefers lower case e.g. 'ls' is a command, 'LS' is not.\n",
      "- The enter key runs the command, usually giving the results on screen.\n",
      "    \n",
      "NOTE: There must be one or more spaces between the command name, the options and the arguments!\n",
      "    \n",
      "In the above example we use the command ls which will list files in the directory /var/tmp.  The options -a and -l tell the command to display more information showing hidden files and to use a long listing format.\n"
     ]
    },
    {
     "cell_type": "heading",
     "level": 3,
     "metadata": {
      "slideshow": {
       "slide_type": "-"
      }
     },
     "source": [
      "Command Recall"
     ]
    },
    {
     "cell_type": "markdown",
     "metadata": {
      "slideshow": {
       "slide_type": "-"
      }
     },
     "source": [
      "These bash shell we are using features a command recall function which enables previously entered commands to be recalled from history.\n",
      "\n",
      "The arrow keys allow you to recall previously typed commands so you can either run them again, or edit them.\n",
      "\n",
      "- up arrow recalls the previous command\n",
      "- down arrow recalls the next command\n",
      "- left arrow and right arrow move the cursor along the current command\n",
      "\n",
      "You can insert characters at the cursor by simply typing. Characters can be removed by using Backspace. Once you are happy with the command run it with ENTER."
     ]
    },
    {
     "cell_type": "heading",
     "level": 3,
     "metadata": {
      "slideshow": {
       "slide_type": "-"
      }
     },
     "source": [
      "Command Line Completion"
     ]
    },
    {
     "cell_type": "markdown",
     "metadata": {
      "slideshow": {
       "slide_type": "-"
      }
     },
     "source": [
      "The bash shell also features TAB completion and will try to complete file and command names for you.  If you type the first few characters of a file or directory name and then press TAB the shell will try to complete as much of the name as is unique.  Once it gets to the point where it is no longer unique it will then prompt for more input until the filename or command is complete.\n",
      "\n",
      "The Unix Shell saves typing and improves accuracy, if you let the shell complete the command you know it is correct and will do what you expect it to."
     ]
    },
    {
     "cell_type": "markdown",
     "metadata": {},
     "source": [
      "### Man pages\n",
      "\t\n",
      "Man pages (short for \"manual pages\") are the extensive documentation that comes preinstalled with almost all substantial Unix and Unix-like operating systems. The Unix command used to display them is man. Each page is a self-contained document.\n",
      "\t\n",
      "To read a manual page for a Unix command, use the man command. For example, to view the man page for the ftp command you would type the following.\n"
     ]
    },
    {
     "cell_type": "code",
     "collapsed": false,
     "input": [
      "%%bash\n",
      "man ls"
     ],
     "language": "python",
     "metadata": {},
     "outputs": []
    },
    {
     "cell_type": "markdown",
     "metadata": {},
     "source": [
      "In order to simplify navigation through the output man generally uses the less terminal pager (the space bar scrolls forward a page, the w key scrolls backward a page, q exits).\n",
      "\t\n",
      "All man pages follow a common layout that is optimized for presentation on a simple ASCII text display, possibly without any form of highlighting or font control. Sections present may include:\n",
      "\t\n",
      "NAME - The name of the command or function, followed by a one-line description of what it does.\n",
      "\t\n",
      "SYNOPSIS - In the case of a command, you get a formal description of how to run it and what command line options it takes. For experienced users, this may be all the documentation they need.\n",
      "\t\n",
      "DESCRIPTION - A textual description of the functioning of the command, including any options the command takes.\n",
      "\t\n",
      "EXAMPLES - Some examples of common usage. \n",
      "\t\n",
      "If you cannot remember the name of a command you use the -k option to search the descriptions of all the man pages on the system. It may return a long list of results! \n"
     ]
    },
    {
     "cell_type": "code",
     "collapsed": false,
     "input": [
      "%%bash\n",
      "man -k \"list directory contents\"\n",
      "man -k \"opposite of more\"\n",
      "man -k \"access control lists\""
     ],
     "language": "python",
     "metadata": {},
     "outputs": [
      {
       "output_type": "stream",
       "stream": "stdout",
       "text": [
        "ls(1)                    - list directory contents\n",
        "less(1)                  - opposite of more\n",
        "chmod(1)                 - change file modes or Access Control Lists\n"
       ]
      }
     ],
     "prompt_number": 18
    }
   ],
   "metadata": {}
  }
 ]
}