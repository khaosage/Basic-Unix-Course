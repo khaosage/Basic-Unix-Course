{
 "metadata": {
  "name": "Basic Unix Session 4 - Processes"
 },
 "nbformat": 3,
 "nbformat_minor": 0,
 "worksheets": [
  {
   "cells": [
    {
     "cell_type": "heading",
     "level": 1,
     "metadata": {},
     "source": [
      "Processes"
     ]
    },
    {
     "cell_type": "markdown",
     "metadata": {},
     "source": [
      "In computing a process is an instance of a computer program that is being executed.  It contains the program code and its current activity.  A computer program is a passive collection of instructions and a process is the actual execution of these instructions.  Several processes can be associated with the same program such as starting several instances of the same program.\n",
      "\n",
      "Every time you invoke a system utility or an application program from a shell, one or more \u201cchild\u201d processes are created by the shell in response to your command.  All UNIX processes are identified by a unique process identifier or PID.  An important process that is always present is the init process.  This is the first process to be created when a UNIX system starts and usually has the PID of 1.  All other processes are said to be \u201cdescendants\u201d of init. \n",
      "\n",
      "Multitasking is a method to allow multiple processes to share processors (CPUs) and other system resources. Each CPU executes a single task at a time. However, multitasking allows each processor to switch between tasks that are being executed without having to wait for each task to finish.  UNIX uses a common form of multitasking which is time-sharing.  Time-sharing in UNIX allows fast response for interactive user applications and makes it seem like multiple processes are being executed simultaneously.\n",
      "\n",
      "Unix users get things done by running programs, which create processes to do the work.  By definition a program is a finite set of computer instructions that solve a problem when they are run or executed.\n",
      "<pre>\t\n",
      "\t\u2022\tUnix programs are simply files that have the execute permission set. \n",
      "\t\u2022\tA process is a program that is running.\n",
      "\t\u2022\tProcesses run until either they choose to finish, or they are killed.\n",
      "\t\u2022\tEach shell can have one foreground process at a time.\n",
      "\t\u2022\tA foreground process has to finish before the next one can start.\n",
      "\t\u2022\tEach shell can run many background processes simultaneously.\n",
      "\t\u2022\tProcesses can be made to run in the background by appending an & at the very end of the command.\n",
      "</pre>"
     ]
    },
    {
     "cell_type": "heading",
     "level": 3,
     "metadata": {},
     "source": [
      "Pipes"
     ]
    },
    {
     "cell_type": "markdown",
     "metadata": {},
     "source": [
      "By connecting processes (using pipes) the output of one process is passed to the input of another, in this way you can \"chain\" multiple processes to make more powerful commands.  \n",
      "\n",
      "The pipe \u2018|\u2019 operator is used to create concurrently executing processes that pass data directly from one to another.  By combining system utilities to perform more complex functions we can filter our results before outputting the results.  \n",
      "\n",
      "For example:"
     ]
    },
    {
     "cell_type": "code",
     "collapsed": false,
     "input": [
      "%%bash\n",
      "\n",
      "cat hello.txt | sort | uniq"
     ],
     "language": "python",
     "metadata": {},
     "outputs": []
    },
    {
     "cell_type": "markdown",
     "metadata": {},
     "source": [
      "Creates three process (corresponding to cat, sort and uniq) which execute concurrently. As they execute, the output of the cat process is passed on to the sort process which in turn is passed on to the uniq process.  uniq displays its output on the screen (a sorted list of users with duplicate lines removed).  Similarly:"
     ]
    },
    {
     "cell_type": "code",
     "collapsed": false,
     "input": [
      "%%bash\n",
      "\n",
      "cat hello.txt | grep \u201cdog\u201d | grep -v \u201ccat\u201d"
     ],
     "language": "python",
     "metadata": {},
     "outputs": []
    },
    {
     "cell_type": "markdown",
     "metadata": {},
     "source": [
      "finds all the lines in hello.txt that contain the string \u201cdog\u201d but do not contain the string \u201ccat\u201d"
     ]
    },
    {
     "cell_type": "heading",
     "level": 3,
     "metadata": {},
     "source": [
      "Input/output  redirection"
     ]
    },
    {
     "cell_type": "markdown",
     "metadata": {},
     "source": [
      "Each process is connected to three byte streams: input (stdin) usually from keyboard, output (stdout) usually to screen and error (stderr) also to screen.  \n",
      "\n",
      "IMAGE:\n",
      "\n",
      "It is possible to redirect the output of a process to another location such as directly to a file.  \n",
      "\n",
      "To redirect standard output to a file instead of the screen, we can use the > operator:"
     ]
    },
    {
     "cell_type": "code",
     "collapsed": false,
     "input": [
      "%%bash\n",
      "\n",
      "echo hello"
     ],
     "language": "python",
     "metadata": {},
     "outputs": []
    },
    {
     "cell_type": "code",
     "collapsed": false,
     "input": [
      "%%bash\n",
      "\n",
      "echo hello > output.txt"
     ],
     "language": "python",
     "metadata": {},
     "outputs": []
    },
    {
     "cell_type": "code",
     "collapsed": false,
     "input": [
      "%%bash\n",
      "\n",
      "cat output.txt"
     ],
     "language": "python",
     "metadata": {},
     "outputs": []
    },
    {
     "cell_type": "markdown",
     "metadata": {},
     "source": [
      "In this case, the contents of the file output.txt will be destroyed if the file already exists.  if instead we want to append the output of the echo command to the file, we can use the >> operator:"
     ]
    },
    {
     "cell_type": "code",
     "collapsed": false,
     "input": [
      "%%bash\n",
      "\n",
      "echo bye >> output.txt"
     ],
     "language": "python",
     "metadata": {},
     "outputs": []
    },
    {
     "cell_type": "code",
     "collapsed": false,
     "input": [
      "%%bash\n",
      "\n",
      "cat output.txt"
     ],
     "language": "python",
     "metadata": {},
     "outputs": []
    },
    {
     "cell_type": "markdown",
     "metadata": {},
     "source": [
      "A single > will redirect output to a new file, overwriting the contents of the file if it exists. A double >> will redirect output to an existing file, appending it to the end.\n",
      "\n",
      "In UNIX the file numbers 0, 1 and 2 are assigned to standard input, standard output and standard error respectively.\n",
      "\n",
      "<pre>\n",
      "standard input   = 0\n",
      "standard output  = 1\n",
      "standard error   = 2\n",
      "</pre>\n",
      "\n",
      "So to capture standard error, prefix the > operator with 2, using a filename that doesn\u2019t exist:"
     ]
    },
    {
     "cell_type": "code",
     "collapsed": false,
     "input": [
      "%%bash\n",
      "\n",
      "cat nonexistent 2> errors.txt"
     ],
     "language": "python",
     "metadata": {},
     "outputs": []
    },
    {
     "cell_type": "code",
     "collapsed": false,
     "input": [
      "%%bash\n",
      "\n",
      "cat errors.txt"
     ],
     "language": "python",
     "metadata": {},
     "outputs": []
    },
    {
     "cell_type": "markdown",
     "metadata": {},
     "source": [
      "You can redirect standard error and standard output to two different files:"
     ]
    },
    {
     "cell_type": "code",
     "collapsed": false,
     "input": [
      "%%bash\n",
      "\n",
      "find . -print 1> output.txt 2> errors.txt"
     ],
     "language": "python",
     "metadata": {},
     "outputs": []
    },
    {
     "cell_type": "markdown",
     "metadata": {},
     "source": [
      "or to the same file:"
     ]
    },
    {
     "cell_type": "code",
     "collapsed": false,
     "input": [
      "%%bash\n",
      "\n",
      "find . -print 1> output.txt 2> output.txt"
     ],
     "language": "python",
     "metadata": {},
     "outputs": []
    },
    {
     "cell_type": "markdown",
     "metadata": {},
     "source": [
      "or"
     ]
    },
    {
     "cell_type": "code",
     "collapsed": false,
     "input": [
      "%%bash\n",
      "\n",
      "find . -print >& output.txt"
     ],
     "language": "python",
     "metadata": {},
     "outputs": []
    },
    {
     "cell_type": "markdown",
     "metadata": {},
     "source": [
      "standard input can also be redirected using the < operator, so input is read from a file instead of keyboard:"
     ]
    },
    {
     "cell_type": "code",
     "collapsed": false,
     "input": [
      "%%bash\n",
      "\n",
      "cat < output.txt"
     ],
     "language": "python",
     "metadata": {},
     "outputs": []
    },
    {
     "cell_type": "markdown",
     "metadata": {},
     "source": [
      "you can combine input redirection with output redirection, but be careful not to use the same filename in both places. For example:"
     ]
    },
    {
     "cell_type": "code",
     "collapsed": false,
     "input": [
      "%%bash\n",
      "\n",
      "cat < output.txt > output.txt"
     ],
     "language": "python",
     "metadata": {},
     "outputs": []
    },
    {
     "cell_type": "markdown",
     "metadata": {},
     "source": [
      "will destroy the contents of output.txt because the first thing the shell does when it sees the > operator is to create an empty file ready for the output.\n",
      "\n",
      "One last point to note is that we can pass standard output to utilities that require filenames as \u201c-\u201d:"
     ]
    },
    {
     "cell_type": "code",
     "collapsed": false,
     "input": [
      "%%bash\n",
      "\n",
      "cat package.tar.gz | gzip -d | tar tvf -"
     ],
     "language": "python",
     "metadata": {},
     "outputs": []
    },
    {
     "cell_type": "markdown",
     "metadata": {},
     "source": [
      "Here the output of gzip -d command is used as the input file to the tar command.\n",
      "\n",
      "<strong>NOTE: on Find</strong>\n",
      "\n",
      "When we searched the whole system for foo, by specifying the root directory (\u201c/\u201d) to search.\u00a0 If you don't run this command as root, find will display a error message for each directory on which you don't have read permission.\u00a0 This can be a lot of messages, and the matching files that are found may scroll right off your screen.\u00a0 A good way to deal with this problem is to redirect the error messages so you don't have to see them at all:"
     ]
    },
    {
     "cell_type": "code",
     "collapsed": false,
     "input": [
      "%%bash\n",
      "\n",
      "find / -name foo 2>/dev/null"
     ],
     "language": "python",
     "metadata": {},
     "outputs": []
    },
    {
     "cell_type": "heading",
     "level": 3,
     "metadata": {},
     "source": [
      "Controlling processes associated with the current shell"
     ]
    },
    {
     "cell_type": "markdown",
     "metadata": {},
     "source": [
      "Most shells provide sophisticated job control facilities that let you control many running jobs (processes) at the same time.  Jobs can either be in the foreground or the background. \n",
      "\n",
      "Only one job can be run in the foreground at any time. The foreground job has control of the shell with which you interact - it receives input from the keyboard and sends output to the screen. \n",
      "\n",
      "You can run as many background Jobs as you like,  background jobs do not receive input from the terminal and generally run quietly without the need for interaction\n",
      "\n",
      "The foreground job may be suspended, i.e. temporarily stopped, by pressing the Ctrl-Z key. A suspended job can be made to continue running in the foreground or background as needed by typing \"fg\" or \"bg\" respectively. \n",
      "Background jobs can also be run directly from the command line, by appending the '&' character to the command line. For example:\n"
     ]
    },
    {
     "cell_type": "code",
     "collapsed": false,
     "input": [
      "%%bash\n",
      "\n",
      "find / -print 1>output 2>errors &"
     ],
     "language": "python",
     "metadata": {},
     "outputs": []
    },
    {
     "cell_type": "markdown",
     "metadata": {},
     "source": [
      "Here the [1] returned by the shell represents the job number of the background process, and the 27501 is the PID of the process. To see a list of all the jobs associated with the current shell, type jobs:"
     ]
    },
    {
     "cell_type": "code",
     "collapsed": false,
     "input": [
      "%%bash\n",
      "\n",
      "jobs"
     ],
     "language": "python",
     "metadata": {},
     "outputs": []
    },
    {
     "cell_type": "markdown",
     "metadata": {},
     "source": [
      "Note that if you have more than one job you can refer to the job as %n where n is the job number. So for example fg %3 resumes job number 3 in the foreground.\n",
      "To find out the process ID's of the underlying processes associated with the shell and its jobs, use ps (process show):\n",
      "\n"
     ]
    },
    {
     "cell_type": "code",
     "collapsed": false,
     "input": [
      "%%bash\n",
      "\n",
      "ps"
     ],
     "language": "python",
     "metadata": {},
     "outputs": []
    },
    {
     "cell_type": "markdown",
     "metadata": {},
     "source": [
      "So this shows the PID of the shell (bash), the PID of find and the PID of ps."
     ]
    },
    {
     "cell_type": "heading",
     "level": 4,
     "metadata": {},
     "source": [
      "Current Processes (ps)"
     ]
    },
    {
     "cell_type": "markdown",
     "metadata": {},
     "source": [
      "The ps command lists currently active processes on the system. Depending on what options are given it can list a specified set of processes, or every process on the system.\n",
      "\t\n",
      "List own your processes with the option 'u'."
     ]
    },
    {
     "cell_type": "code",
     "collapsed": false,
     "input": [
      "%%bash\n",
      "\n",
      "ps u"
     ],
     "language": "python",
     "metadata": {},
     "outputs": []
    },
    {
     "cell_type": "markdown",
     "metadata": {},
     "source": [
      "The (PID) is the process number, All processes on the system can be listed with the 'aux' option"
     ]
    },
    {
     "cell_type": "heading",
     "level": 4,
     "metadata": {},
     "source": [
      "Killing Processes (kill)"
     ]
    },
    {
     "cell_type": "markdown",
     "metadata": {},
     "source": [
      "To terminate a foreground process in your terminal window type 'CTRL-C',  foreground processes should only be killed if you cannot exit from them normally i.e. they have hung.  \n",
      "\n",
      "NOTE:  that suspending a job is very different from interrupting a job (by pressing the interrupt key, usually Ctrl-C); interrupted jobs are killed off permanently and cannot be resumed.\n",
      "\n",
      "To terminate a process or job abruptly, use the kill command. kill allows\u00a0 jobs to referred to in two ways - by their PID or by their job number. So "
     ]
    },
    {
     "cell_type": "code",
     "collapsed": false,
     "input": [
      "%%bash\n",
      "\n",
      "kill %1"
     ],
     "language": "python",
     "metadata": {},
     "outputs": []
    },
    {
     "cell_type": "markdown",
     "metadata": {},
     "source": [
      "or"
     ]
    },
    {
     "cell_type": "code",
     "collapsed": false,
     "input": [
      "%%bash\n",
      "\n",
      "kill 27501"
     ],
     "language": "python",
     "metadata": {},
     "outputs": []
    },
    {
     "cell_type": "markdown",
     "metadata": {},
     "source": [
      "would terminate the find process. Actually without any options kill only sends the process a signal requesting that the process shuts down and exits gracefully (the SIGTERM signal), so this may not always work. To force a process to terminate abruptly (and with a higher probability of success), use the -9 option (the SIGKILL signal):"
     ]
    },
    {
     "cell_type": "code",
     "collapsed": false,
     "input": [
      "%%bash\n",
      "\n",
      "kill -9 27501"
     ],
     "language": "python",
     "metadata": {},
     "outputs": []
    },
    {
     "cell_type": "markdown",
     "metadata": {},
     "source": [
      "When kill is used with the -9 option it has no opportunity to tidy up it just stops so if a program should normally delete temporary files or write logs it may not do so in this case, and you will have to tidy up manually, so you should only use the '-9' option if the process will not die with a normal kill.\n",
      "kill can be used to send many other types of signals to running processes. For example a -19 option (SIGSTOP) will suspend a running process. To see a list of such signals, run kill -l."
     ]
    },
    {
     "cell_type": "heading",
     "level": 4,
     "metadata": {},
     "source": [
      "Managing Processes with live view (top)"
     ]
    },
    {
     "cell_type": "markdown",
     "metadata": {},
     "source": [
      "Along with ps many UNIX distributions also include a system utility called top.  top provides an interactive way to monitor system activity and gives detailed information on CPU and memory usage,  it is useful for monitoring processes running in real time.  Useful keys in top are:\n",
      "\n",
      "<pre>\n",
      "s - set update frequency\u00a0\u00a0\u00a0\u00a0\u00a0\u00a0\u00a0\u00a0\u00a0\u00a0\u00a0\u00a0\u00a0\u00a0\u00a0\u00a0\u00a0 \n",
      "k - kill process (by PID)\n",
      "M - sort by Memory  \u2028",
      "u - display processes of one user\n",
      "q - quit\n",
      "</pre>\n",
      "\n",
      "Type 'top' in a shell and you should see some output like this (the processes are being displayed in order of CPU utilization).\n"
     ]
    },
    {
     "cell_type": "code",
     "collapsed": false,
     "input": [
      "%%bash\n",
      "\n",
      "top"
     ],
     "language": "python",
     "metadata": {},
     "outputs": []
    },
    {
     "cell_type": "markdown",
     "metadata": {},
     "source": [
      "Top displays real time information on currently running processes. It also gives information on CPU and memory usage.\n",
      "\n",
      "(add content - OPTIONS, add content - EXIT:)"
     ]
    },
    {
     "cell_type": "heading",
     "level": 4,
     "metadata": {},
     "source": [
      "Controlling other processes"
     ]
    },
    {
     "cell_type": "markdown",
     "metadata": {},
     "source": [
      "You can also use ps to show all processes running on the machine (not just the processes in your current shell):"
     ]
    },
    {
     "cell_type": "code",
     "collapsed": false,
     "input": [
      "%%bash\n",
      "\n",
      "ps -fae\t\t\t# or ps -aux on BSD machines"
     ],
     "language": "python",
     "metadata": {},
     "outputs": []
    },
    {
     "cell_type": "code",
     "collapsed": false,
     "input": [
      "%%bash\n",
      "\n",
      "ps -aeH \t\t# displays a full process hierarchy (including the init process)."
     ],
     "language": "python",
     "metadata": {},
     "outputs": []
    },
    {
     "cell_type": "markdown",
     "metadata": {},
     "source": [
      "Some useful process utilities that can help manage processes are the pgrep & pkill commands,  which can be used to find processes by name, and kill them as needed.\n",
      "pgrep can be used to find PID's by name:"
     ]
    },
    {
     "cell_type": "code",
     "collapsed": false,
     "input": [
      "%%bash\n",
      "\n",
      "pgrep find"
     ],
     "language": "python",
     "metadata": {},
     "outputs": []
    },
    {
     "cell_type": "markdown",
     "metadata": {},
     "source": [
      "pkill can find the PID or job number by name, so is another way to kill off our background find process (along with any another find processes we are running):"
     ]
    },
    {
     "cell_type": "code",
     "collapsed": false,
     "input": [
      "%%bash\n",
      "\n",
      "pkill find"
     ],
     "language": "python",
     "metadata": {},
     "outputs": []
    },
    {
     "cell_type": "markdown",
     "metadata": {},
     "source": [
      "pgrep and pkill have a number of options available but a really useful one for pkill is:"
     ]
    },
    {
     "cell_type": "markdown",
     "metadata": {},
     "source": [
      "<pre>\n",
      "-I          Request confirmation before attempting to signal each process.\n",
      "</pre>"
     ]
    },
    {
     "cell_type": "code",
     "collapsed": false,
     "input": [
      "%%bash\n",
      "\n",
      "pkill -I find"
     ],
     "language": "python",
     "metadata": {},
     "outputs": []
    },
    {
     "cell_type": "markdown",
     "metadata": {},
     "source": [
      "NOTE: that, for obvious security reasons, you can only kill processes that belong to you (unless you are the superuser)"
     ]
    }
   ],
   "metadata": {}
  }
 ]
}