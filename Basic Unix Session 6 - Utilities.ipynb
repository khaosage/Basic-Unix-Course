{
 "metadata": {
  "name": "Basic Unix Session 6 - Utilities"
 },
 "nbformat": 3,
 "nbformat_minor": 0,
 "worksheets": [
  {
   "cells": [
    {
     "cell_type": "heading",
     "level": 2,
     "metadata": {},
     "source": [
      "Controlling Text"
     ]
    },
    {
     "cell_type": "heading",
     "level": 3,
     "metadata": {},
     "source": [
      "cut"
     ]
    },
    {
     "cell_type": "markdown",
     "metadata": {},
     "source": [
      "The cut command displays selected columns or fields from each line of a file.\n",
      "\n",
      "<pre>\n",
      "Options:\n",
      "-d specifies a field separator (delimiter).\u2028",
      "-f specifies which fields are displayed in the output.\u2028",
      "-c specifies which columns are displayed, in cut a column is one character.\n",
      "</pre>\n",
      "\n",
      "By using the '-d' and '-f' options together you can cut one or more fields from a file."
     ]
    },
    {
     "cell_type": "code",
     "collapsed": false,
     "input": [
      "%%bash\n",
      "\n",
      "cut -d ':' -f2,4 movies.txt"
     ],
     "language": "python",
     "metadata": {},
     "outputs": []
    },
    {
     "cell_type": "markdown",
     "metadata": {},
     "source": [
      "This displays fields 2 and 4 from every line of the colon separated file movies.txt\n",
      "\t\n",
      "NOTE: when specifying a delimiter, spaces or other characters with special meaning to the shell must be quoted.\n",
      "\t\n",
      "By using the '-c' option you can cut a range of characters (columns)"
     ]
    },
    {
     "cell_type": "code",
     "collapsed": false,
     "input": [
      "%%bash\n",
      "\n",
      "cut -c 1,3,5 fruitlist.txt"
     ],
     "language": "python",
     "metadata": {},
     "outputs": []
    },
    {
     "cell_type": "markdown",
     "metadata": {},
     "source": [
      "displays the first, third and fifth character in each line of fruitlist.txt"
     ]
    },
    {
     "cell_type": "code",
     "collapsed": false,
     "input": [
      "%%bash\n",
      "\n",
      "cut -c 1-5 fruitlist.txt"
     ],
     "language": "python",
     "metadata": {},
     "outputs": []
    },
    {
     "cell_type": "markdown",
     "metadata": {},
     "source": [
      "displays the first five characters in each line of fruitlist.txt"
     ]
    },
    {
     "cell_type": "heading",
     "level": 3,
     "metadata": {},
     "source": [
      "Word Count (wc)"
     ]
    },
    {
     "cell_type": "markdown",
     "metadata": {},
     "source": [
      "The wc (word count) command is used to count characters, words and lines in files.\n",
      "\t\n",
      "When invoked with no options wc will display the number lines, words and bytes in a file respectively."
     ]
    },
    {
     "cell_type": "code",
     "collapsed": false,
     "input": [
      "%%bash\n",
      "\n",
      "wc fruitlist.txt"
     ],
     "language": "python",
     "metadata": {},
     "outputs": []
    },
    {
     "cell_type": "markdown",
     "metadata": {},
     "source": [
      "You can specify which information to want using one or more of the following options:\n",
      "\n",
      "<pre>\n",
      "-c    count the number of bytes\u2028",
      "\n",
      "-m    count the number of characters\n",
      "-w    count the number of words\n",
      "-l    count the number of lines\n",
      "-L    count the length of the longest line\n",
      "</pre>\n",
      "\n",
      "Count bytes"
     ]
    },
    {
     "cell_type": "code",
     "collapsed": false,
     "input": [
      "%%bash\n",
      "\n",
      "wc -c fruitlist.txt"
     ],
     "language": "python",
     "metadata": {},
     "outputs": []
    },
    {
     "cell_type": "markdown",
     "metadata": {},
     "source": [
      "counts the number of bytes in fruitlist.txt\n",
      "\t\n",
      "Count characters"
     ]
    },
    {
     "cell_type": "code",
     "collapsed": false,
     "input": [
      "%%bash\n",
      "\n",
      "wc -m fruitlist.txt"
     ],
     "language": "python",
     "metadata": {},
     "outputs": []
    },
    {
     "cell_type": "markdown",
     "metadata": {},
     "source": [
      "counts the number of characters in fruitlist.txt\n",
      "\t\n",
      "Count words"
     ]
    },
    {
     "cell_type": "code",
     "collapsed": false,
     "input": [
      "%%bash\n",
      "\n",
      "wc -w fruitlist.txt"
     ],
     "language": "python",
     "metadata": {},
     "outputs": []
    },
    {
     "cell_type": "markdown",
     "metadata": {},
     "source": [
      "counts the number of words in fruitlist.txt\n",
      "\t\n",
      "Count lines"
     ]
    },
    {
     "cell_type": "code",
     "collapsed": false,
     "input": [
      "%%bash\n",
      "\n",
      "wc -l fruitlist.txt"
     ],
     "language": "python",
     "metadata": {},
     "outputs": []
    },
    {
     "cell_type": "markdown",
     "metadata": {},
     "source": [
      "counts the length of the longest line in fruitlist.txt"
     ]
    },
    {
     "cell_type": "heading",
     "level": 3,
     "metadata": {},
     "source": [
      "Advanced text file processing with sed and awk"
     ]
    },
    {
     "cell_type": "markdown",
     "metadata": {},
     "source": [
      "<strong>sed</strong>\n",
      "\n",
      "All about sed"
     ]
    },
    {
     "cell_type": "markdown",
     "metadata": {},
     "source": [
      "<strong>awk</strong>\n",
      "\n",
      "\n",
      "All about Awk"
     ]
    },
    {
     "cell_type": "heading",
     "level": 3,
     "metadata": {},
     "source": [
      "Shortcuts"
     ]
    },
    {
     "cell_type": "markdown",
     "metadata": {},
     "source": [
      "<strong>Keyboard Shortcuts</strong>\n",
      "\n",
      "<pre>\n",
      "CTRL + R    find last command with **\n",
      "CTRL + E    \n",
      "CTRL + A    \n",
      "CTRL + B    Move the cursor backward one character.\n",
      "CTRL + C    Cancel the currently running command.\n",
      "CTRL + D    Log out of the current session.\n",
      "CTRL + F    Move the cursor forward one character.\n",
      "CTRL + H    Erase one character. Similar to pressing backspace.\n",
      "CTRL + P    Paste previous line and/or lines.\n",
      "CTRL + S    Stop all output on screen (XOFF).\n",
      "CTRL + Q    Turn all output stopped on screen back on (XON).\n",
      "CTRL + U    Erase the complete line.\n",
      "CTRL + W    Delete the last word typed in. For example, if you typed 'mv file1 file2' this shortcut would delete file2.\n",
      "CTRL + Z    Cancel current operation, move back a directory and/or take the current operation and move it to the background.\n",
      "CTRL + L    Clear the terminal\n",
      "</pre>\n",
      "\n",
      "<strong>Command Line Shortcuts</strong>\n",
      "\n",
      "In addition to the below command line shortcuts, it is also helpful to use the alias command that allows you to specify a keyword for frequently used commands or mistakes.\n",
      "\n",
      "<pre>\n",
      "~     Move to the user's home directory.\n",
      "!!    Repeat the line last entered at the shell. See history command for previous commands.\n",
      "!$    Repeat the last argument for the command last used. See history command for previous commands.\n",
      "</pre>"
     ]
    }
   ],
   "metadata": {}
  }
 ]
}