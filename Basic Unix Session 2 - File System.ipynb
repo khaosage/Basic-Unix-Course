{
 "metadata": {
  "name": "Basic Unix Session 2 - File System"
 },
 "nbformat": 3,
 "nbformat_minor": 0,
 "worksheets": [
  {
   "cells": [
    {
     "cell_type": "heading",
     "level": 1,
     "metadata": {},
     "source": [
      "The Unix File System"
     ]
    },
    {
     "cell_type": "markdown",
     "metadata": {},
     "source": [
      "The UNIX operating system is built around the concept of a filesystem which is used to store all of the information that constitutes the long term state of the system. This state includes the kernal itself, executable files for the commands supported by the operating system, configuration information, temporary workfiles, user data, and various special files that are used to give controlled access to system hardware and operating functions."
     ]
    },
    {
     "cell_type": "markdown",
     "metadata": {},
     "source": [
      "__Ordianry Files__ - Can contain text, data, or program information.  Files cannot contain other files or directories.  Unlike other operating systems, UNIX filenames are not broken into a name part and an extension part (although extentions are still frequently used as a means to classify files).  Instead they can contain any keyboard characters except for \u2018/\u2019 and be up to 256 characters long (note however that characters such as *,?,# and & have special meaning in most shells and should not be used in filenames).  Putting spaces in filenames also makes the difficult to manipulate - rather use the underscore \u2018_\u2019. "
     ]
    },
    {
     "cell_type": "markdown",
     "metadata": {},
     "source": [
      "__Directories__  - Which are containers or folders that hold files, and other directories."
     ]
    },
    {
     "cell_type": "markdown",
     "metadata": {},
     "source": [
      "__Devices__ - To provide applications with easy access to hardware devices, UNIX allows them to be used in much the same way as ordinary files.  There are 2 two types of device in UNIX - block-oriented devices which transfer data in blocks (e.g. hard disks) and character-oriented devices that transfer data on a byte by byte basis (e.g. modems and dumb terminals)."
     ]
    },
    {
     "cell_type": "markdown",
     "metadata": {},
     "source": [
      "__Links__ - Are a pointer to another file. There are two types of links - a hard link to a file indistinguishable from the file itself.  A soft link (or symbolic link) provides an indeirect pointer or shortcut to a file. A soft link is implemented as a directory entry containing a pathname. "
     ]
    },
    {
     "cell_type": "heading",
     "level": 3,
     "metadata": {},
     "source": [
      "Directory Structure"
     ]
    },
    {
     "cell_type": "markdown",
     "metadata": {},
     "source": [
      "The Unix file system holds content in a tree of directories. The root directory (denoted by a /) is at the top, directories under root are called subdirectories.\n",
      "\n",
      "There are conventions for directory names and their content: programs in bin, configuration files in etc, program libraries in lib, manual pages in man and temporary files in tmp. A list of naming conventions and their descriptions can be found in Appendix A of this booklet.\n",
      "\n",
      "<img src=\"files/images/Filesystem Layout.png\">\n",
      "\n",
      "\n",
      "Example Unix file system layout\n",
      "\t\n",
      "- The blue area denotes the files and directories that are installed with the Unix distribution. With the exception of tmp you generally will not have write access to any of these directories.\n",
      "- The orange area is used to store extra applications, libraries etc that are not included with the Unix distribution. Again users do not have write access to this area.\n",
      "- The yellow area shows NFS (Network File System) and other shared directories that are not local to the machine. Your own home directory and shared team areas reside under NFS.\n",
      "\t\n",
      "When you open a shell on a Unix system you are taken to your home directory, this is where you store your personal files."
     ]
    },
    {
     "cell_type": "heading",
     "level": 2,
     "metadata": {},
     "source": [
      "Pathnames"
     ]
    },
    {
     "cell_type": "markdown",
     "metadata": {},
     "source": [
      "Entries in the Unix file system are identified by pathnames. When navigating around the file system you must specify pathnames using the correct syntax.\n",
      "\t\n",
      "Full (absolute) pathnames always start from the root directory, as such they must always be prefixed with a forward slash (/).\n",
      "\n",
      "<pre>\n",
      "/bin/ls <command>\n",
      "/nfs/<repositorydirectory>\n",
      "/nfs/users/nfs_a/ab15/text.txtfile\n",
      "</pre>\n",
      "    \n",
      "Relative pathnames assume you have already navigated into the file system. They are not prefixed with a forward slash (/).\n",
      "\n",
      "<pre>    \n",
      "/nfs/users/nfs_a/ab15/text.txt \t\t    (full pathname)\n",
      "ab15/text.txt\t\t\t\t\t\t\t(relative pathname assuming you are already in /nfs/users/nfs_a)\n",
      "</pre>\n",
      "    \n",
      "To save typing, you can use a tilda (~) to denote the path name preceding a home directory.\n",
      "\n",
      "<pre>    \n",
      "~ab15/text.txt \u201cis equal to\u201d /nfs/users/nfs_a/ab15/text.txt\n",
      "</pre>\n",
      "    \n",
      "Tilde can only be used in conjunction with usernames, other directories cannot be referenced in this way. \n",
      "\t\n",
      "When referring to a directory or filename which contains spaces you have to precede every space with a backslash, or surround the name with quotes.\n",
      "\t\n",
      "<pre>\n",
      "My Data Files = My\\ Data\\ Files   OR   \"My Data Files\"\n",
      "</pre>\n",
      "\n",
      "For this reason it's usually preferable to avoid spaces in directory and file names. Instead use a special character such as underscore _ or dash - e.g. My-Data-Files.\n",
      "\t\n",
      "Unlike Windows the use of . (dot) is allowed in file and directory names. Unix does not force you to use file extensions to differentiate between different file types. However it can be useful if you plan to view the files on another operating system e.g. append .txt to the end of text files."
     ]
    },
    {
     "cell_type": "heading",
     "level": 4,
     "metadata": {},
     "source": [
      "Special Directories \u201c.\u201d and \u201c..\u201d "
     ]
    },
    {
     "cell_type": "markdown",
     "metadata": {},
     "source": [
      "Every directory in the file system has two special directories\n",
      "\t\n",
      "<pre>\n",
      " . \t(pronounced \"dot\") &\n",
      ".. \t(pronounced \"dot dot\")\n",
      "</pre>\t\n",
      "\n",
      ". (dot) refers to the current directory. If you tell the system to navigate to . you will stay in the same place. This may not seem very useful at first, but in certain situations using . as the name of the current directory will save you from having to specify the entire path name.\n",
      "\t\n",
      ".. (dot dot) refers to the parent directory i.e. the parent of the current directory. Telling the system to navigate to .. will take you up one directory in the hierarchy. "
     ]
    },
    {
     "cell_type": "heading",
     "level": 4,
     "metadata": {},
     "source": [
      "Hidden Files"
     ]
    },
    {
     "cell_type": "markdown",
     "metadata": {},
     "source": [
      "Filenames in Unix can contain almost any character and start with almost any character. However filenames starting with a . (dot) are often called hidden files because they don't show up in a regular file listing. \n",
      "\t\n",
      "It is common for Unix tools to create \"dot\" files to store temporary data, preferences and history information. In some circumstances users are  expected to create them as configuration files."
     ]
    },
    {
     "cell_type": "heading",
     "level": 2,
     "metadata": {},
     "source": [
      "Navigating the Filesystem"
     ]
    },
    {
     "cell_type": "markdown",
     "metadata": {},
     "source": [
      "There are three main commands for navigating the filesystem, pwd, cd and ls."
     ]
    },
    {
     "cell_type": "heading",
     "level": 4,
     "metadata": {},
     "source": [
      "Print Working Directory (pwd)"
     ]
    },
    {
     "cell_type": "markdown",
     "metadata": {},
     "source": [
      "pwd  is used to display the path of the current working directory."
     ]
    },
    {
     "cell_type": "code",
     "collapsed": false,
     "input": [
      "%%bash\n",
      "\n",
      "\n",
      "pwd                  # Typing pwd at any time will display your current location in the filesystem."
     ],
     "language": "python",
     "metadata": {},
     "outputs": []
    },
    {
     "cell_type": "heading",
     "level": 4,
     "metadata": {},
     "source": [
      "Change Directory (cd)"
     ]
    },
    {
     "cell_type": "markdown",
     "metadata": {},
     "source": [
      "cd (change directory) changes the current working directory. The directory you wish to change to is given as an argument, if no argument is given cd changes to your home directory."
     ]
    },
    {
     "cell_type": "code",
     "collapsed": false,
     "input": [
      "%%bash\n",
      "\n",
      "\n",
      "cd /usr/local/bin    # Change to the directory /usr/local/bin\n",
      "pwd"
     ],
     "language": "python",
     "metadata": {},
     "outputs": []
    },
    {
     "cell_type": "code",
     "collapsed": false,
     "input": [
      "%%bash\n",
      "\n",
      "\n",
      "cd                   # Change to your own home directory\n",
      "pwd"
     ],
     "language": "python",
     "metadata": {},
     "outputs": []
    },
    {
     "cell_type": "heading",
     "level": 4,
     "metadata": {},
     "source": [
      "List Files (ls)"
     ]
    },
    {
     "cell_type": "markdown",
     "metadata": {},
     "source": [
      "When invoked without any options or arguments, ls lists the contents of the current working directory.\n",
      "ls can list directories other than the current working directory if they are given as an argument."
     ]
    },
    {
     "cell_type": "code",
     "collapsed": false,
     "input": [
      "%%bash\n",
      "ls \t\t\t\t\t\t# List the contents of the current working directory"
     ],
     "language": "python",
     "metadata": {},
     "outputs": []
    },
    {
     "cell_type": "code",
     "collapsed": false,
     "input": [
      "%%bash\n",
      "ls /usr/local\t\t\t# List the contents of /usr/local"
     ],
     "language": "python",
     "metadata": {},
     "outputs": []
    },
    {
     "cell_type": "markdown",
     "metadata": {},
     "source": [
      "Without options, ls displays files in a bare format. This bare format however makes it difficult to establish attributes such as  type, permissions and size.  Some common options to reveal this information are:\n",
      "\n",
      "<pre>    \n",
      "  -a      do not hide entries that start with . (hidden files)\n",
      "  -F      append indicator: / for directories, * programs, @ symbolic links\n",
      "  -l      gives more detail including permissions, owner and group\n",
      "  -R      list directory and its sub-directories (recurse)\n",
      "  -d      list directories instead of entries within \t\n",
      "</pre>\n",
      "\t\n",
      "For the full list of options look at the man page for ls."
     ]
    },
    {
     "cell_type": "code",
     "collapsed": false,
     "input": [
      "%%bash\n",
      "ls -la                 # Give a long listing of the current directory"
     ],
     "language": "python",
     "metadata": {},
     "outputs": []
    },
    {
     "cell_type": "heading",
     "level": 4,
     "metadata": {},
     "source": [
      "File Information (file)"
     ]
    },
    {
     "cell_type": "markdown",
     "metadata": {},
     "source": [
      "file is another command worth noting. File will attempt to classify a file (given as an argument) and display the result."
     ]
    },
    {
     "cell_type": "code",
     "collapsed": false,
     "input": [
      "%%bash\n",
      "file stonehenge.jpg"
     ],
     "language": "python",
     "metadata": {},
     "outputs": []
    },
    {
     "cell_type": "heading",
     "level": 4,
     "metadata": {},
     "source": [
      "Exercise 1.1 - Navigation"
     ]
    },
    {
     "cell_type": "markdown",
     "metadata": {},
     "source": [
      "Your training has just copied a new directory to your home directory.\n",
      "\n",
      "1. Open a terminal and list the contents of your home directory using ls you should see a subdirectory called repository.\n",
      "2. \"repository\" contains a number of empty subdirectories with the exception of one,  which contains a file called sequence.dat. Using the commands we've covered so far (pwd, cd and ls) navigate through the subdirectories and find the file sequence.dat.\n",
      "3. When you have found sequence.dat use the file command to determine what kind of file it is.\n",
      "\t\n",
      "Tips:\n",
      "\t\n",
      "- To save you typing remember to use command recall and tab completion.\n",
      "- Using cd .. will take you up one level in the file system hierarchy. \n",
      "- cd on its own will take to back to your home directory\n",
      "- If you get lost use pwd to display your current location in the filesystem. \n",
      "\t\n"
     ]
    },
    {
     "cell_type": "heading",
     "level": 3,
     "metadata": {},
     "source": [
      "Making Hard & Soft (Symbolic) Links"
     ]
    },
    {
     "cell_type": "markdown",
     "metadata": {},
     "source": [
      "Direct (hard) and indirect (soft or symbolic) links from one file or directory to another can be created using the ln command.\n",
      "\n",
      "<code>  ln filename linkname</code>\n",
      "\n",
      "This creates another directory entry for filename called linkname (i.e. linkname is a hard link). Both directory entries appear identical (and both now have a link count of 2).\n",
      "If either filename or linkname is modified the change will be reflected in the other file (since they are in fact just two different directory entries pointing to the same file).\n",
      "\n",
      "<code>  ln -s filename linkname</code>\n",
      "\n",
      "creates a shortcut called linkname (i.e. linkname is a soft link). The shortcut appears as an entry with the special type (\u2018l;):"
     ]
    },
    {
     "cell_type": "code",
     "collapsed": false,
     "input": [
      "%%bash\n",
      "touch hello.txt\n",
      "ln -s hello.txt bye.txt\n",
      "ls -l bye.txt"
     ],
     "language": "python",
     "metadata": {},
     "outputs": []
    },
    {
     "cell_type": "markdown",
     "metadata": {},
     "source": [
      "The link count of the source file remains unaffected.  Notice that the permission bits on a symbolic link are not used (always appearing as rwxrwxrwx). Instead the permissions on the link are determined by the permissions on the target (hello.txt in this case).\n",
      "\n",
      "Note that you can create a symbolic link to a file that exist, but not a hard link. Another difference between the two is that you can create a symbolic link across different physical devices or partitions, but hard links are restricted to the same disk partition.  Finally, most current UNIX implementations do not allow hard links to point at directories."
     ]
    },
    {
     "cell_type": "heading",
     "level": 4,
     "metadata": {},
     "source": [
      "Exercise 1.2 Links"
     ]
    },
    {
     "cell_type": "code",
     "collapsed": false,
     "input": [
      " #######################################\n",
      " #### Exercise on linking goes here ####\n",
      " #######################################"
     ],
     "language": "python",
     "metadata": {},
     "outputs": []
    },
    {
     "cell_type": "heading",
     "level": 2,
     "metadata": {},
     "source": [
      "Wildcards\t"
     ]
    },
    {
     "cell_type": "markdown",
     "metadata": {},
     "source": [
      "Many Unix commands take a list of files and/or directories as arguments. The shell uses special characters known as wildcards to match entries within the filesystem. This means you can specify multiple files and/or directories with a single command.\n",
      "\t\n",
      "The following are examples of how wildcard characters can be used.\n",
      "\t\n",
      "__*__      matches any character or characters."
     ]
    },
    {
     "cell_type": "code",
     "collapsed": false,
     "input": [
      "%%bash\n",
      "\n",
      "ls a*                               # lists all files/directories starting with 'a'"
     ],
     "language": "python",
     "metadata": {},
     "outputs": []
    },
    {
     "cell_type": "markdown",
     "metadata": {},
     "source": [
      "__?__ matches any one character."
     ]
    },
    {
     "cell_type": "code",
     "collapsed": false,
     "input": [
      "%%bash\n",
      "#create some files to play with\n",
      "\n",
      "touch animals/cat animals/dog animals/pig animals/cow animals/monkey animals/fish"
     ],
     "language": "python",
     "metadata": {},
     "outputs": []
    },
    {
     "cell_type": "code",
     "collapsed": false,
     "input": [
      "%%bash\n",
      "\n",
      "rm -r animals/???                            # will remove all directories with 3 character names"
     ],
     "language": "python",
     "metadata": {},
     "outputs": []
    },
    {
     "cell_type": "markdown",
     "metadata": {},
     "source": [
      "__[ ]__ matches one character from a set or range."
     ]
    },
    {
     "cell_type": "code",
     "collapsed": false,
     "input": [
      "%%bash \n",
      "\n",
      "cp *[4-6] ~/tmp                       # copies all files ending with a 4, 5 or 6 to /tmp"
     ],
     "language": "python",
     "metadata": {},
     "outputs": []
    },
    {
     "cell_type": "markdown",
     "metadata": {},
     "source": [
      "  __[^ ]__      matches anything BUT one character from a set or range."
     ]
    },
    {
     "cell_type": "code",
     "collapsed": false,
     "input": [
      "%%bash\n",
      "\n",
      "mv *[^y] ~/tmp                       # moves all files/directories that DO NOT end with 'y' to /tmp"
     ],
     "language": "python",
     "metadata": {},
     "outputs": []
    },
    {
     "cell_type": "markdown",
     "metadata": {},
     "source": [
      "A backslash before a wildcard character above means that we treat that character literally, not as a wildcard."
     ]
    },
    {
     "cell_type": "code",
     "collapsed": false,
     "input": [
      "%%bash\n",
      "\n",
      "file \\?*                            # display information about all files starting with '?'"
     ],
     "language": "python",
     "metadata": {},
     "outputs": []
    },
    {
     "cell_type": "heading",
     "level": 2,
     "metadata": {},
     "source": [
      "Quotes"
     ]
    },
    {
     "cell_type": "markdown",
     "metadata": {},
     "source": [
      "As we have seen certain special characters (e.g. '*', '-','{' etc.) are interpreted in a special way by the shell. In order to pass arguments that use these characters to commands directly (i.e. without filename expansion etc.), we need to use special quoting characters. There are three levels of quoting that you can try:\n",
      "\n",
      "- Try insert a '\\' in front of the special character.\n",
      "- Use double quotes (\") around arguments to prevent most expansions.\n",
      "- Use single forward quotes (') around arguments to prevent all expansions.\n"
     ]
    },
    {
     "cell_type": "code",
     "collapsed": false,
     "input": [
      "%%bash\n",
      "hostname"
     ],
     "language": "python",
     "metadata": {},
     "outputs": []
    },
    {
     "cell_type": "markdown",
     "metadata": {},
     "source": [
      "There is a fourth type of quoting in UNIX. Single backward quotes (`) or backticks which are used to pass the output of some command as an input argument to another."
     ]
    },
    {
     "cell_type": "code",
     "collapsed": false,
     "input": [
      "%%bash\n",
      "echo \"this machine is called `hostname`\""
     ],
     "language": "python",
     "metadata": {},
     "outputs": []
    },
    {
     "cell_type": "heading",
     "level": 4,
     "metadata": {},
     "source": [
      "Exercise 1.3 - Wildcards & Quotes"
     ]
    },
    {
     "cell_type": "code",
     "collapsed": false,
     "input": [
      " ##################################################\n",
      " #### Exercise on wildcards & quotes goes here ####\n",
      " ##################################################"
     ],
     "language": "python",
     "metadata": {},
     "outputs": []
    },
    {
     "cell_type": "heading",
     "level": 2,
     "metadata": {},
     "source": [
      "Managing the File System"
     ]
    },
    {
     "cell_type": "markdown",
     "metadata": {},
     "source": [
      "Unix can create, copy, move, rename and destroy files and directories. In this section we will learn about the commands used to do this."
     ]
    },
    {
     "cell_type": "heading",
     "level": 4,
     "metadata": {},
     "source": [
      "Copy Files (cp)"
     ]
    },
    {
     "cell_type": "markdown",
     "metadata": {},
     "source": [
      "cp (short for copy) copies files or directories from one place to another. The original file remains unchanged and the new file may have the same or a different name. \n",
      "\n",
      "Common options:\n",
      "\n",
      "<pre>\n",
      "  -r      option must be used when dealing with directories.\n",
      "</pre>\n",
      "\n",
      "To copy a file:"
     ]
    },
    {
     "cell_type": "code",
     "collapsed": false,
     "input": [
      "%%bash\n",
      "\n",
      "cp myfile copyofmyfile"
     ],
     "language": "python",
     "metadata": {},
     "outputs": []
    },
    {
     "cell_type": "markdown",
     "metadata": {},
     "source": [
      "To copy a directory:"
     ]
    },
    {
     "cell_type": "code",
     "collapsed": false,
     "input": [
      "%%bash\n",
      "\n",
      "cp -r mydir copyofmydir"
     ],
     "language": "python",
     "metadata": {},
     "outputs": []
    },
    {
     "cell_type": "markdown",
     "metadata": {},
     "source": [
      "When you copy a directory, everything within the directory is also copied."
     ]
    },
    {
     "cell_type": "heading",
     "level": 4,
     "metadata": {},
     "source": [
      "Move Files (mv)"
     ]
    },
    {
     "cell_type": "markdown",
     "metadata": {},
     "source": [
      "mv (short for move) moves files or directories from one place to another. The original file is deleted, and the new file may have the same or a different name. It can also be used to rename files."
     ]
    },
    {
     "cell_type": "code",
     "collapsed": false,
     "input": [
      "%%bash\n",
      "\n",
      "touch newfile.txt                         # create a file to use for the example\n",
      "ls -A new*                                # prove the file exists."
     ],
     "language": "python",
     "metadata": {},
     "outputs": []
    },
    {
     "cell_type": "markdown",
     "metadata": {},
     "source": [
      "To rename a file:"
     ]
    },
    {
     "cell_type": "code",
     "collapsed": false,
     "input": [
      "%%bash\n",
      "\n",
      "mv myfile.txt move.txt"
     ],
     "language": "python",
     "metadata": {},
     "outputs": []
    },
    {
     "cell_type": "markdown",
     "metadata": {},
     "source": [
      "To move a file:"
     ]
    },
    {
     "cell_type": "code",
     "collapsed": false,
     "input": [
      "%%bash\n",
      "\n",
      "mv move.txt ~/tmp                                # mv myfile newlocation"
     ],
     "language": "python",
     "metadata": {},
     "outputs": []
    },
    {
     "cell_type": "heading",
     "level": 4,
     "metadata": {},
     "source": [
      "Creating Directories (mkdir)"
     ]
    },
    {
     "cell_type": "markdown",
     "metadata": {},
     "source": [
      "mkdir is used to create new directories in the file system.\n",
      "\t\n",
      "To create a directory:"
     ]
    },
    {
     "cell_type": "code",
     "collapsed": false,
     "input": [
      "%%bash\n",
      "\n",
      "mkdir newdir"
     ],
     "language": "python",
     "metadata": {},
     "outputs": []
    },
    {
     "cell_type": "markdown",
     "metadata": {},
     "source": [
      "If '-p' is given as an option followed by a directory path, mkdir will create all directories leading up to the final directory that do not already exist."
     ]
    },
    {
     "cell_type": "code",
     "collapsed": false,
     "input": [
      "%%bash\n",
      "\n",
      "mkdir -p ~/tmp/a/b/c "
     ],
     "language": "python",
     "metadata": {},
     "outputs": []
    },
    {
     "cell_type": "markdown",
     "metadata": {},
     "source": [
      "will create 'tmp', 'tmp/a', 'tmp/a/b' and finally 'tmp/a/b/c'\n",
      "\t\n",
      "There is a also a powerful shell extension, nothing mkdir does itself, which can create a whole directory tree in one go.\n",
      "\n",
      "<pre>\n",
      "mkdir -p tmpdir/{trunk/sources/{includes,docs},branches,tags}\n",
      "</pre>\n",
      "\n",
      "This will create:\n",
      "\t\n",
      "\t                     tmpdir\n",
      "\t               ________|______\n",
      "\t              |        |      |\n",
      "\t         branches    tags   trunk\n",
      "\t                              |\n",
      "\t                            sources\n",
      "\t                          ____|_____\n",
      "\t                         |          |\n",
      "\t                     includes      docs\n",
      "\t\n"
     ]
    },
    {
     "cell_type": "heading",
     "level": 4,
     "metadata": {},
     "source": [
      "Remove Files (rm)"
     ]
    },
    {
     "cell_type": "markdown",
     "metadata": {},
     "source": [
      "rm (short for remove) is used to delete files or directories from the file system. By default rm does not ask for confirmation  deleting instantly. For this reason it's good practice to use the '-i' option, which forces rm to prompt you before deleting each file. As with cp, the '-r' option must be used when dealing with directories.\n",
      "\n",
      "Option:\n",
      "<pre>\n",
      "  -f        Attempt to remove the files without prompting for confirmation, regardless of the file's\n",
      "            permissions.  If the file does not exist, do not display a diagnostic message or modify the\n",
      "            exit status to reflect an error.  The -f option overrides any previous -i options.\n",
      "\n",
      "  -i        Request confirmation before attempting to remove each file, regardless of the file's per-\n",
      "            missions, or whether or not the standard input device is a terminal.  The -i option over-\n",
      "            rides any previous -f options.\n",
      "\n",
      "  -R        Attempt to remove the file hierarchy rooted in each file argument.  The -R option implies\n",
      "            the -d option.  If the -i option is specified, the user is prompted for confirmation before\n",
      "            each directory's contents are processed (as well as before the attempt is made to remove\n",
      "            the directory).  If the user does not respond affirmatively, the file hierarchy rooted in\n",
      "            that directory is skipped.\n",
      "\n",
      "  -r        Equivalent to -R.\n",
      "\n",
      "  -v        Be verbose when deleting files, showing them as they are removed.   \n",
      "</pre>\n"
     ]
    },
    {
     "cell_type": "code",
     "collapsed": false,
     "input": [
      "%%bash\n",
      "\n",
      "touch newfile.txt                         # create a file to use for the example\n",
      "pwd\n",
      "ls -A new*                                # prove the file exists."
     ],
     "language": "python",
     "metadata": {},
     "outputs": []
    },
    {
     "cell_type": "markdown",
     "metadata": {},
     "source": [
      "To delete a file instantly:"
     ]
    },
    {
     "cell_type": "code",
     "collapsed": false,
     "input": [
      "%%bash\n",
      "\n",
      "rm newfile.txt"
     ],
     "language": "python",
     "metadata": {},
     "outputs": []
    },
    {
     "cell_type": "markdown",
     "metadata": {},
     "source": [
      "To delete a directory instantly:"
     ]
    },
    {
     "cell_type": "code",
     "collapsed": false,
     "input": [
      "%%bash\n",
      "\n",
      "rm -r newdir"
     ],
     "language": "python",
     "metadata": {},
     "outputs": []
    },
    {
     "cell_type": "markdown",
     "metadata": {},
     "source": [
      "__NOTE:__ rm is not the only command that can destroy content. When you move, rename or copy a file to a name which already exists, the duplicate will be overwritten.\n",
      "\t\n",
      "All three commands (cp, mv & rm) can be given the '-i' option, forcing them to prompt for confirmation before destroying content. Using '-i' can prevent any unexpected and potentially damaging results!"
     ]
    },
    {
     "cell_type": "heading",
     "level": 4,
     "metadata": {},
     "source": [
      "Exercise 1.4 - ordered filesystem"
     ]
    },
    {
     "cell_type": "markdown",
     "metadata": {},
     "source": [
      "In your home directory there should be a directory called sequence_data. \n",
      "\n",
      "Within sequence_data are three project directories called bE180G7,  bE324L13 & zH190F24. Within each project directory are a number of files, these files contain sequence data relating to one of the projects.  The files have become mixed up, some of them are no longer in the correct project directory.\n",
      "\t\n",
      "1. Using the commands we've learned so far, move the sequence files to their corresponding project directory\n",
      "\t\n",
      "e.g. file bE324L13.00001 should be in directory bE324L13\n",
      "\t\n",
      "Tips: \n",
      "\n",
      "- The result can be achieved in more than one way, practice using cp & rm as well as mv.\n",
      "- Remember to use the arrow keys for command recall and the tab key for command completion.\n",
      "- ls -R can be used to list the whole directory tree at once.\n"
     ]
    },
    {
     "cell_type": "heading",
     "level": 3,
     "metadata": {},
     "source": [
      "File System Utilities"
     ]
    },
    {
     "cell_type": "heading",
     "level": 4,
     "metadata": {},
     "source": [
      "File Compression"
     ]
    },
    {
     "cell_type": "markdown",
     "metadata": {},
     "source": [
      "__tar__\n",
      "\t\n",
      "tar is short for tape archiving, historically the storing of entire file systems onto magnetic tape. However, a more common use for tar is to simply combine a few files into a single file, for easy storage and distribution.\n",
      "\t\n",
      "Options:\n",
      "<pre>\n",
      "  c      creates a new tar file.\u2028",
      "x extracts the contents of a tar file.\u2028",
      "\n",
      "  v      causes tar to be verbose, listing the processed files as it goes.\u2028",
      "\n",
      "  f      specifies a name for the tar file.\n",
      "</pre>\n",
      "\n",
      "To combine the directory sequence_data and its contents into a single file called sequence_data.tar :"
     ]
    },
    {
     "cell_type": "code",
     "collapsed": false,
     "input": [
      "%%bash\n",
      "\n",
      "tar cvf sequence_data.tar sequence_data"
     ],
     "language": "python",
     "metadata": {},
     "outputs": []
    },
    {
     "cell_type": "markdown",
     "metadata": {},
     "source": [
      "To extract the tar file, replace the c option with x :"
     ]
    },
    {
     "cell_type": "code",
     "collapsed": false,
     "input": [
      "%%bash\n",
      "\n",
      "tar xvf sequence_data.tar"
     ],
     "language": "python",
     "metadata": {},
     "outputs": []
    },
    {
     "cell_type": "markdown",
     "metadata": {},
     "source": [
      "__gzip__\n",
      "\n",
      "gzip will compress a file, reducing its size on the filesystem. This maybe useful for archiving files that are less frequently used. Files that have been compressed end with the suffix '.gz'."
     ]
    },
    {
     "cell_type": "code",
     "collapsed": false,
     "input": [
      "%%bash\n",
      "\n",
      "gzip filename"
     ],
     "language": "python",
     "metadata": {},
     "outputs": []
    },
    {
     "cell_type": "markdown",
     "metadata": {},
     "source": [
      "gunzip will uncompress a gzipped file."
     ]
    },
    {
     "cell_type": "code",
     "collapsed": false,
     "input": [
      "%%bash\n",
      "\n",
      "gunzip filename.gz"
     ],
     "language": "python",
     "metadata": {},
     "outputs": []
    },
    {
     "cell_type": "markdown",
     "metadata": {},
     "source": [
      "__bzip2__\n",
      "\n",
      "bzip2 compresses files using the Burrows-Wheeler block sorting text as apposed to the more LZ77/LZ78-based compressors, the command-line options are deliberately very similar to those of GNU gzip, but they are not identical.\n",
      "\n",
      "\n",
      "\n"
     ]
    },
    {
     "cell_type": "code",
     "collapsed": false,
     "input": [
      "%%bash\n",
      "\n",
      "bzip2 filename"
     ],
     "language": "python",
     "metadata": {},
     "outputs": []
    },
    {
     "cell_type": "markdown",
     "metadata": {},
     "source": [
      "bunzip2 will uncompress a bzipped file."
     ]
    },
    {
     "cell_type": "code",
     "collapsed": false,
     "input": [
      "%%bash\n",
      "\n",
      "bunzip2 filename"
     ],
     "language": "python",
     "metadata": {},
     "outputs": []
    },
    {
     "cell_type": "markdown",
     "metadata": {},
     "source": [
      "The general rule here is that gzip is slightly quicker and bzip2 has a slightly better compression ratio, however there is not a lot in it."
     ]
    },
    {
     "cell_type": "heading",
     "level": 4,
     "metadata": {},
     "source": [
      "Checking Disk Space"
     ]
    },
    {
     "cell_type": "markdown",
     "metadata": {},
     "source": [
      "__Free Disk Space (df)__\n",
      "\t\n",
      "df reports on the space left on the file system. For example, to find out how much space is left in the current directory, use the following command."
     ]
    },
    {
     "cell_type": "code",
     "collapsed": false,
     "input": [
      "%%bash\n",
      "\n",
      "df ."
     ],
     "language": "python",
     "metadata": {},
     "outputs": []
    },
    {
     "cell_type": "markdown",
     "metadata": {},
     "source": [
      "__Disk Usage statistics (du)__\n",
      "\n",
      "du outputs the number of kilobytes used by each entry in the filesystem. Useful if you have gone over quota and you want to find out which directory is using the most space.\n",
      "\t\n",
      "Options:\n",
      "<pre>\n",
      "  -h      causes du to output in a human readable format (e.g. 1K, 234M, 2G).\n",
      "</pre>"
     ]
    },
    {
     "cell_type": "code",
     "collapsed": false,
     "input": [
      "%%bash\n",
      "\n",
      "du -h ~"
     ],
     "language": "python",
     "metadata": {},
     "outputs": []
    }
   ],
   "metadata": {}
  }
 ]
}