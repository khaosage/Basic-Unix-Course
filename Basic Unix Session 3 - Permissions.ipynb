{
 "metadata": {
  "name": "Basic Unix Session 3 - Permissions"
 },
 "nbformat": 3,
 "nbformat_minor": 0,
 "worksheets": [
  {
   "cells": [
    {
     "cell_type": "heading",
     "level": 1,
     "metadata": {},
     "source": [
      "Files & Permissions"
     ]
    },
    {
     "cell_type": "markdown",
     "metadata": {},
     "source": [
      "### Permissions \n",
      "\n",
      "Unix permissions are split into three categories - The user who is the owner of the file, the group which is the associated group for the file and other which encompasses everyone else regardless of their username or group.  For each category you have three types of permissions you can set *read* (r), *write* (w)  and *execute* (x), these have slightly different properties depending on whether it is for files or directories.\n",
      "\n",
      "Permissions on files - here we have a file which is readable by everybody but writable only by the user/owner.\n",
      "\n",
      "<img src=\"files/images/file_permissions.png\">\n",
      "\n",
      "When considering permissions for files - read access grants the user the ability to look at the contents of the file, write access will allow the user to modify the contents of the file and execute will allow the user to use the filename as a UNIX command.\n",
      "\n",
      "Permission on directory - here we have a directory which is readable by everybody but writable only by the user/owner.\n",
      "\n",
      "<img src=\"files/images/dir_permissions.png\">\n",
      "\n",
      "When considering permissions for directories - read access grants the user the ability to list the files in the directory,  write access allows the user to create new files and remove existing files with in that directory and execute will allow the user to cd into the directory although wouldn\u2019t allow listing the files unless read access is also granted.\n",
      "\n",
      "\n",
      "#### Changing File Permissions (chmod)\n",
      "\t\n",
      "If we wanted to change the permissions on a file or directory we can use the command chmod but only if we are the owner of the object we want to change, the only exception being the superuser (root) as this account generally has full permission to change all files & directories.\n",
      "\n",
      "chmod accepts two different modes of syntax - absolute or symbolic.\n",
      "\n",
      "*Absolute* which uses a sequence of 3 octal digits (octal is like decimal except it uses the range 0-7 instead of 0-9)\n",
      "\n",
      "<img src=\"files/images/octal_perm_777.png\">\n",
      "\n",
      "Example of usage:\n",
      "\n",
      "<pre>\n",
      "chmod [octal] [filename]\n",
      "</pre>\n",
      "\n",
      "*Symbolic* mode uses the following:\n",
      "\n",
      "<pre>\n",
      "chmod [who] [operator] [permissions] [what]\n",
      "</pre>\n",
      "\n",
      "- The who symbols u (user), g (group) and o (other)  the a (all is equivalent to using \"ugo\" together.)\n",
      "- The operator symbols + (to add permissions), - (take away permissions) and = (assign permissiosns).\n",
      "- The permissions r (read), w (wirte) and x (execute).\n",
      "- The what is usualy a filename or directory name.\n",
      "\n",
      "<pre>\n",
      "chmod [ugoa] [+-=] [rwx] filename \n",
      "</pre>\n",
      "\n",
      "\n",
      "*Examples*\n",
      "\n",
      "To set the permissions on private.txt to -rw-rw---- (i.e. only the owner and group can read or write the file)\n",
      "\n",
      "To set this in absolute syntax it would be: \n",
      "\n"
     ]
    },
    {
     "cell_type": "code",
     "collapsed": false,
     "input": [
      "%%bash\n",
      "\n",
      "chmod 660 private.txt"
     ],
     "language": "python",
     "metadata": {},
     "outputs": []
    },
    {
     "cell_type": "markdown",
     "metadata": {},
     "source": [
      "To do the same with in symbolic:\n",
      "\n",
      "<pre>\n",
      "chmod ug=rw,o-rw,a-x *.txt\n",
      "</pre>\n",
      "\n",
      "Both ways of using the syntax are perfectly valid and can be interchanged as you prefer, depending on the task one may be more logical or quicker but it doesn't really matter which you choose.\n",
      "\n",
      "\n",
      "Options\n",
      "\n",
      "chmod also supports the -R option which can be used to apply permissions recursively to a directory and all of its contents.\n",
      "\n",
      "<pre>\n",
      "chmod -R g+r directory\n",
      "</pre>\n",
      "\n",
      "NOTE: it may also be worth using -h which prevents chmod from following symbolic and changing the permissions in the files the link connects to."
     ]
    },
    {
     "cell_type": "markdown",
     "metadata": {},
     "source": [
      "### Groups\n",
      "\t\n",
      "Every user on a Unix system has a unique username and is a member of at least one group.\n",
      "\t\n",
      "All Unix content is owned by both a user and a group. The simplest example of this would be files (but this concept is not limited only to files). By manipulating permissions, the user who owns a file can define which other users and groups can read or modify that file. In this way, users can secure sensitive files and keep themselves or others from accidentally deleting important data.\n",
      "\t\n",
      "When you create a file it is owned by you and your primary group. To see your group use the following command."
     ]
    },
    {
     "cell_type": "code",
     "collapsed": false,
     "input": [
      "%%bash\n",
      "\n",
      "groups"
     ],
     "language": "python",
     "metadata": {},
     "outputs": []
    },
    {
     "cell_type": "markdown",
     "metadata": {},
     "source": [
      "This produces a list of the groups you are a member of, the first one is your primary group. At Sanger your primary group will usually be your team e.g. team94.\n",
      "\t\n",
      "To see which groups another user is a member of, use the groups with their username as the argument."
     ]
    },
    {
     "cell_type": "code",
     "collapsed": false,
     "input": [
      "%%bash\n",
      "\n",
      "groups ab15"
     ],
     "language": "python",
     "metadata": {},
     "outputs": []
    },
    {
     "cell_type": "markdown",
     "metadata": {},
     "source": [
      "Unix authorises or denies your commands by comparing your user name and groups with the user name, group and permissions on the thing you are dealing with. In general you are authorised to do anything to your own things, but nothing destructive to those belonging to others. \n",
      "\t\n",
      "The exception is the superuser (root) who is authorised to do anything to anything.\n",
      "\n",
      "NOTE: you can belong to as many groups as you like however on older UNIX systems it will only read the first 16 so this can sometimes bite you."
     ]
    },
    {
     "cell_type": "heading",
     "level": 4,
     "metadata": {},
     "source": [
      "Changing Groups"
     ]
    },
    {
     "cell_type": "markdown",
     "metadata": {},
     "source": [
      "Sometimes it can be useful to change the group that your files belong to set up access for different projects etc.\n",
      "\n",
      "So to change a group we can use the chgrp command: \n",
      "\n",
      "<pre>\n",
      "chgrp group files\n",
      "</pre>\n",
      "\n",
      "This can also be used with the -R option to recursively change a folder and all of its content."
     ]
    },
    {
     "cell_type": "markdown",
     "metadata": {},
     "source": [
      "### Looking at file content\n",
      "\n",
      "When working with large amounts of data it is often necessary to sort it into a meaningful order, cut out the bits you are not interested in or just display the bits you are. The Unix shell has a number commands which you can use to display, search and sort text.\n",
      "\n",
      "Type of file - (file)\n",
      "\n",
      "<pre>\n",
      "file filename\n",
      "</pre>\t\n",
      "\n",
      "file gives you information about a files contents and reports a high description of what the file appears to be:"
     ]
    },
    {
     "cell_type": "code",
     "collapsed": false,
     "input": [
      "%%bash\n",
      "\n",
      "file python.py letter.txt webpage.html"
     ],
     "language": "python",
     "metadata": {},
     "outputs": []
    },
    {
     "cell_type": "markdown",
     "metadata": {},
     "source": [
      "file can identify a wide range of file types but can get confused so is not 100% reliable.\n",
      "\t\n",
      "### Reading Files - (less)\n",
      "\t\n",
      "While cat prints all output to the screen at once, less allows you to view the output page by page. It also allows vi-like browsing and searching in the text.\n",
      "\t\n",
      "less has many features, the basic commands are as follows:\n",
      "\t\n",
      "To start less type 'less' giving a filename as an argument:"
     ]
    },
    {
     "cell_type": "code",
     "collapsed": false,
     "input": [
      "%%bash\n",
      "\n",
      "less fruitlist.txt"
     ],
     "language": "python",
     "metadata": {},
     "outputs": []
    },
    {
     "cell_type": "markdown",
     "metadata": {},
     "source": [
      "This displays the contents of fruitlist.txt as a pager.\n",
      "\n",
      "The up arrow scrolls up, down arrow scrolls down, w scrolls up one page, space scrolls down one page, q exits less.\n",
      "less has some useful options like the -p option, which starts less at the first occurrence of a pattern. For example:"
     ]
    },
    {
     "cell_type": "code",
     "collapsed": false,
     "input": [
      "%%bash\n",
      "\n",
      "less -p Orange fruitlist.txt"
     ],
     "language": "python",
     "metadata": {},
     "outputs": []
    },
    {
     "cell_type": "markdown",
     "metadata": {},
     "source": [
      "start less at the first occurrence of 'Orange' in fruitlist.txt\n",
      "\t\n",
      "Note: The pattern is case sensitive so it will not find 'orange'.\n",
      "\t\n",
      "You can also search while viewing a file using '/' and '?'. \n",
      "\n",
      "<pre>\n",
      "/wordsearches forwards for word in the file\n",
      "?wordsearches backwards for word in the file\n",
      "Pressing 'h' in less will give you the help menu list of commands.\n",
      "</pre>\n",
      "\n",
      "Alternatives to less include more and pg. However less is preferred as it is very efficient when working with large files.\n",
      "\t\n",
      "\t\n",
      "### Read just the top of Files - (head)\n",
      "\t\n",
      "The head command shows the first n lines from the beginning of a file. Useful to read the headers of files.\n",
      "\n",
      "<pre>\n",
      "Options:\n",
      "-n specifies how many lines are shown, the default is ten.\u2028",
      "\n",
      "-f causes tail to follow a file as it grows, showing changes in real-time.\n",
      "</pre>\n",
      "\n",
      "Using the head command to show the start of a file"
     ]
    },
    {
     "cell_type": "code",
     "collapsed": false,
     "input": [
      "%%bash                     \n",
      "\n",
      "head fruitlist.txt                     # show the first 10 lines of fruitlist.txt"
     ],
     "language": "python",
     "metadata": {},
     "outputs": []
    },
    {
     "cell_type": "code",
     "collapsed": false,
     "input": [
      "%%bash                    \n",
      "\n",
      "head -n 30 fruitlist.txt               # show the first 30 lines of fruitlist.txt"
     ],
     "language": "python",
     "metadata": {},
     "outputs": []
    },
    {
     "cell_type": "markdown",
     "metadata": {},
     "source": [
      "### Read just the bottom of files - (tail)\n",
      "\t\n",
      "The tail command shows the last n lines from the end of a file.  Useful for reading logs as they are writing to files."
     ]
    },
    {
     "cell_type": "code",
     "collapsed": false,
     "input": [
      "%%bash\n",
      "\n",
      "tail fruitlist.txt                     # show the last 10 lines of fruitlist.txt"
     ],
     "language": "python",
     "metadata": {},
     "outputs": []
    },
    {
     "cell_type": "code",
     "collapsed": false,
     "input": [
      "%%bash\n",
      "\n",
      "tail -n 5 fruitlist.txt               # show the last 5 lines of fruitlist.txt"
     ],
     "language": "python",
     "metadata": {},
     "outputs": []
    },
    {
     "cell_type": "code",
     "collapsed": false,
     "input": [
      "%%bash\n",
      "\n",
      "tail -f fruitlist.txt                 # show the last 10 lines of fruitlist.txt in follow mode, updating any changes in real time"
     ],
     "language": "python",
     "metadata": {},
     "outputs": []
    },
    {
     "cell_type": "markdown",
     "metadata": {},
     "source": [
      "NOTE: To exit tail when in follow mode press 'ctrl-c'."
     ]
    },
    {
     "cell_type": "heading",
     "level": 4,
     "metadata": {},
     "source": [
      "Reading Multiple files - Concatenate (cat)"
     ]
    },
    {
     "cell_type": "markdown",
     "metadata": {},
     "source": [
      "cat (short for concatenate) takes the argument of a filename and displays the contents within the shell."
     ]
    },
    {
     "cell_type": "code",
     "collapsed": false,
     "input": [
      "%%bash\n",
      "\n",
      "cat fruitlist.txt"
     ],
     "language": "python",
     "metadata": {},
     "outputs": []
    },
    {
     "cell_type": "markdown",
     "metadata": {},
     "source": [
      "cat the contents of fruitlist.txt to the screen\n",
      "\t\n",
      "cat is a quick way of displaying the contents of a file. However as it simply dumps the contents to the screen it's not suited to files with more than a few lines."
     ]
    },
    {
     "cell_type": "markdown",
     "metadata": {},
     "source": [
      "### Finding Files\n",
      "\n",
      "The find command is used to locate files on a Unix or Linux system.\u00a0 find will search any set of directories you specify for files that match the supplied search criteria.\u00a0 You can search for files by name, owner, group, type, permissions, date, and other criteria.\u00a0 The search is recursive in that it will search all subdirectories too.\u00a0 The syntax looks like this:\n",
      "find where-to-look criteria what-to-do\n",
      "\n",
      "All arguments to find are optional, and there are defaults for all parts.\u00a0 \n",
      "For example,\n",
      "\n",
      "- where-to-look defaults to . (that is, the current working directory),\n",
      "- criteria defaults to none (that is, select all files), \n",
      "- what-to-do (known as the find action) defaults to ?print (that is, display the names of found files to standard output).\u00a0\n",
      "\n",
      "Technically, the criteria and actions are all known as find primaries.\n",
      "For example:\n",
      "    \n",
      "<pre>\n",
      "find . -print\n",
      "</pre>\n",
      "\n",
      "will display the pathnames of all files in the current directory and all subdirectories.  The commands\n",
      "\n",
      "<pre>\n",
      "find -print\n",
      "find .\n",
      "</pre>\n",
      "\n",
      "do the exact same thing.  Here's an example find command using a search criterion and the default action: find / -name foo"
     ]
    },
    {
     "cell_type": "code",
     "collapsed": false,
     "input": [
      "%%bash\n",
      "\n",
      "find / -name foo"
     ],
     "language": "python",
     "metadata": {},
     "outputs": []
    },
    {
     "cell_type": "markdown",
     "metadata": {},
     "source": [
      "This will search the whole system for any files named foo and display their pathnames. "
     ]
    },
    {
     "cell_type": "code",
     "collapsed": false,
     "input": [
      "%%bash\n",
      "\n",
      "find . -name \\*.txt"
     ],
     "language": "python",
     "metadata": {},
     "outputs": []
    },
    {
     "cell_type": "markdown",
     "metadata": {},
     "source": [
      "Here we are using the criterion -name with the argument foo to tell find to perform a name search for the filename foo.\u00a0 \n",
      "\n",
      "The output might look like this:\n",
      "<pre>\n",
      "/nfs/users/nfs_a/ab15/foo\n",
      "/nfs/team94/foo\n",
      "/tmp/foo\n",
      "</pre>\n",
      "\n",
      "If find doesn't locate any matching files, it produces no output.\n",
      "\n",
      "You can specify as many places to search as you wish:\n",
      "\n",
      "<pre>    \n",
      "find /tmp /var/tmp . $HOME -name foo\n",
      "</pre>\n",
      "\n",
      "find files that were modified in the last day"
     ]
    },
    {
     "cell_type": "code",
     "collapsed": false,
     "input": [
      "%%bash\n",
      "\n",
      "find ./ -mtime -1 -type f -print | xargs ls -las -"
     ],
     "language": "python",
     "metadata": {},
     "outputs": []
    },
    {
     "cell_type": "markdown",
     "metadata": {},
     "source": [
      "files that were modified in the last 30 mins"
     ]
    },
    {
     "cell_type": "code",
     "collapsed": false,
     "input": [
      "%%bash\n",
      "\n",
      "find ./ -mmin -30 -type f -print"
     ],
     "language": "python",
     "metadata": {},
     "outputs": []
    },
    {
     "cell_type": "markdown",
     "metadata": {},
     "source": [
      "find files with the execute permission for \"other\" only descend one level."
     ]
    },
    {
     "cell_type": "code",
     "collapsed": false,
     "input": [
      "%%bash\n",
      "\n",
      "find . -type f -maxdepth 1 -perm -o=x"
     ],
     "language": "python",
     "metadata": {},
     "outputs": [],
     "prompt_number": 5
    }
   ],
   "metadata": {}
  }
 ]
}